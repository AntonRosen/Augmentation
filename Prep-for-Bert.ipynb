{
 "cells": [
  {
   "cell_type": "code",
   "execution_count": 87,
   "id": "4621707a",
   "metadata": {},
   "outputs": [],
   "source": [
    "import pandas as pd\n",
    "import numpy as np\n",
    "\n",
    "import nlpaug.augmenter.word as nlpaw\n",
    "from tqdm import tqdm\n",
    "\n",
    "from sklearn.preprocessing import LabelEncoder"
   ]
  },
  {
   "cell_type": "code",
   "execution_count": 88,
   "id": "2c69f265",
   "metadata": {},
   "outputs": [],
   "source": [
    "df = pd.read_csv(\"Annotation-data-test.csv\")"
   ]
  },
  {
   "cell_type": "code",
   "execution_count": 89,
   "id": "7e6f26fe",
   "metadata": {},
   "outputs": [
    {
     "name": "stderr",
     "output_type": "stream",
     "text": [
      "C:\\Users\\anton\\AppData\\Local\\Temp/ipykernel_22176/3812631323.py:1: FutureWarning: In a future version of pandas all arguments of DataFrame.drop except for the argument 'labels' will be keyword-only\n",
      "  df = df.drop('Unnamed: 0', 1)\n"
     ]
    }
   ],
   "source": [
    "df = df.drop('Unnamed: 0', 1)"
   ]
  },
  {
   "cell_type": "code",
   "execution_count": 90,
   "id": "d18cf536",
   "metadata": {},
   "outputs": [],
   "source": [
    "cols = df.iloc[:, 9:12]"
   ]
  },
  {
   "cell_type": "code",
   "execution_count": 91,
   "id": "fdeecb42",
   "metadata": {},
   "outputs": [],
   "source": [
    "def get_labels(row):\n",
    "    for col in cols:\n",
    "        if row[col] == 1:\n",
    "            return col\n",
    "\n",
    "df['Labels'] = df.apply(get_labels, axis=1)"
   ]
  },
  {
   "cell_type": "code",
   "execution_count": 92,
   "id": "e37afde7",
   "metadata": {},
   "outputs": [],
   "source": [
    "df = df.drop(['id', 'post.nr', 'date', 'phaseType', 'Machine_Translation', 'toxicity', 'severe_toxicity', 'lab_toxic', 'lab_undetermined', 'lab_not_toxic'], axis = 1)"
   ]
  },
  {
   "cell_type": "code",
   "execution_count": 93,
   "id": "34841d9c",
   "metadata": {},
   "outputs": [],
   "source": [
    "df['comment_text'] = df['comment.text']"
   ]
  },
  {
   "cell_type": "code",
   "execution_count": 94,
   "id": "fda2439a",
   "metadata": {},
   "outputs": [],
   "source": [
    "df = df.drop(['comment.text'], axis = 1)"
   ]
  },
  {
   "cell_type": "code",
   "execution_count": 95,
   "id": "d8c5f898",
   "metadata": {},
   "outputs": [
    {
     "data": {
      "text/html": [
       "<div>\n",
       "<style scoped>\n",
       "    .dataframe tbody tr th:only-of-type {\n",
       "        vertical-align: middle;\n",
       "    }\n",
       "\n",
       "    .dataframe tbody tr th {\n",
       "        vertical-align: top;\n",
       "    }\n",
       "\n",
       "    .dataframe thead th {\n",
       "        text-align: right;\n",
       "    }\n",
       "</style>\n",
       "<table border=\"1\" class=\"dataframe\">\n",
       "  <thead>\n",
       "    <tr style=\"text-align: right;\">\n",
       "      <th></th>\n",
       "      <th>n</th>\n",
       "      <th>Labels</th>\n",
       "      <th>comment_text</th>\n",
       "    </tr>\n",
       "  </thead>\n",
       "  <tbody>\n",
       "    <tr>\n",
       "      <th>0</th>\n",
       "      <td>51</td>\n",
       "      <td>lab_not_toxic</td>\n",
       "      <td>fick just samtal att en lastbil kört över mass...</td>\n",
       "    </tr>\n",
       "    <tr>\n",
       "      <th>1</th>\n",
       "      <td>116</td>\n",
       "      <td>lab_not_toxic</td>\n",
       "      <td>andra trådar kopplade till terrorattentatet på...</td>\n",
       "    </tr>\n",
       "    <tr>\n",
       "      <th>2</th>\n",
       "      <td>15</td>\n",
       "      <td>lab_not_toxic</td>\n",
       "      <td>har även jag hört från en på plats  nya spänna...</td>\n",
       "    </tr>\n",
       "    <tr>\n",
       "      <th>3</th>\n",
       "      <td>17</td>\n",
       "      <td>lab_not_toxic</td>\n",
       "      <td>enligt nyhetsflash från aftonbladet har en las...</td>\n",
       "    </tr>\n",
       "    <tr>\n",
       "      <th>4</th>\n",
       "      <td>1</td>\n",
       "      <td>lab_not_toxic</td>\n",
       "      <td>terrorattack</td>\n",
       "    </tr>\n",
       "    <tr>\n",
       "      <th>...</th>\n",
       "      <td>...</td>\n",
       "      <td>...</td>\n",
       "      <td>...</td>\n",
       "    </tr>\n",
       "    <tr>\n",
       "      <th>14593</th>\n",
       "      <td>11</td>\n",
       "      <td>None</td>\n",
       "      <td>muhammad mördade både kvinnor  barn och äldre ...</td>\n",
       "    </tr>\n",
       "    <tr>\n",
       "      <th>14594</th>\n",
       "      <td>261</td>\n",
       "      <td>None</td>\n",
       "      <td>tack för ditt intressanta inlägg    det är rel...</td>\n",
       "    </tr>\n",
       "    <tr>\n",
       "      <th>14595</th>\n",
       "      <td>23</td>\n",
       "      <td>None</td>\n",
       "      <td>problemet är att sverige har ingen skarprättar...</td>\n",
       "    </tr>\n",
       "    <tr>\n",
       "      <th>14596</th>\n",
       "      <td>60</td>\n",
       "      <td>None</td>\n",
       "      <td>även en blind höna hittar ett korn  dvs det är...</td>\n",
       "    </tr>\n",
       "    <tr>\n",
       "      <th>14597</th>\n",
       "      <td>3</td>\n",
       "      <td>None</td>\n",
       "      <td>infogade ämne     mod</td>\n",
       "    </tr>\n",
       "  </tbody>\n",
       "</table>\n",
       "<p>14598 rows × 3 columns</p>\n",
       "</div>"
      ],
      "text/plain": [
       "         n         Labels                                       comment_text\n",
       "0       51  lab_not_toxic  fick just samtal att en lastbil kört över mass...\n",
       "1      116  lab_not_toxic  andra trådar kopplade till terrorattentatet på...\n",
       "2       15  lab_not_toxic  har även jag hört från en på plats  nya spänna...\n",
       "3       17  lab_not_toxic  enligt nyhetsflash från aftonbladet har en las...\n",
       "4        1  lab_not_toxic                                       terrorattack\n",
       "...    ...            ...                                                ...\n",
       "14593   11           None  muhammad mördade både kvinnor  barn och äldre ...\n",
       "14594  261           None  tack för ditt intressanta inlägg    det är rel...\n",
       "14595   23           None  problemet är att sverige har ingen skarprättar...\n",
       "14596   60           None  även en blind höna hittar ett korn  dvs det är...\n",
       "14597    3           None                              infogade ämne     mod\n",
       "\n",
       "[14598 rows x 3 columns]"
      ]
     },
     "execution_count": 95,
     "metadata": {},
     "output_type": "execute_result"
    }
   ],
   "source": [
    "df"
   ]
  },
  {
   "cell_type": "code",
   "execution_count": 96,
   "id": "fcc7c850",
   "metadata": {},
   "outputs": [],
   "source": [
    "df = df.dropna()"
   ]
  },
  {
   "cell_type": "code",
   "execution_count": 97,
   "id": "f7b2869c",
   "metadata": {},
   "outputs": [],
   "source": [
    "df = df[df['Labels'] != 'lab_undetermined']"
   ]
  },
  {
   "cell_type": "code",
   "execution_count": 98,
   "id": "bfbaca6b",
   "metadata": {},
   "outputs": [],
   "source": [
    "le = LabelEncoder()\n",
    "df['Labels'] = le.fit_transform(df['Labels'])"
   ]
  },
  {
   "cell_type": "code",
   "execution_count": 99,
   "id": "08724c74",
   "metadata": {},
   "outputs": [
    {
     "data": {
      "text/html": [
       "<div>\n",
       "<style scoped>\n",
       "    .dataframe tbody tr th:only-of-type {\n",
       "        vertical-align: middle;\n",
       "    }\n",
       "\n",
       "    .dataframe tbody tr th {\n",
       "        vertical-align: top;\n",
       "    }\n",
       "\n",
       "    .dataframe thead th {\n",
       "        text-align: right;\n",
       "    }\n",
       "</style>\n",
       "<table border=\"1\" class=\"dataframe\">\n",
       "  <thead>\n",
       "    <tr style=\"text-align: right;\">\n",
       "      <th></th>\n",
       "      <th>n</th>\n",
       "      <th>Labels</th>\n",
       "      <th>comment_text</th>\n",
       "    </tr>\n",
       "  </thead>\n",
       "  <tbody>\n",
       "    <tr>\n",
       "      <th>0</th>\n",
       "      <td>51</td>\n",
       "      <td>0</td>\n",
       "      <td>fick just samtal att en lastbil kört över mass...</td>\n",
       "    </tr>\n",
       "    <tr>\n",
       "      <th>1</th>\n",
       "      <td>116</td>\n",
       "      <td>0</td>\n",
       "      <td>andra trådar kopplade till terrorattentatet på...</td>\n",
       "    </tr>\n",
       "    <tr>\n",
       "      <th>2</th>\n",
       "      <td>15</td>\n",
       "      <td>0</td>\n",
       "      <td>har även jag hört från en på plats  nya spänna...</td>\n",
       "    </tr>\n",
       "    <tr>\n",
       "      <th>3</th>\n",
       "      <td>17</td>\n",
       "      <td>0</td>\n",
       "      <td>enligt nyhetsflash från aftonbladet har en las...</td>\n",
       "    </tr>\n",
       "    <tr>\n",
       "      <th>4</th>\n",
       "      <td>1</td>\n",
       "      <td>0</td>\n",
       "      <td>terrorattack</td>\n",
       "    </tr>\n",
       "    <tr>\n",
       "      <th>...</th>\n",
       "      <td>...</td>\n",
       "      <td>...</td>\n",
       "      <td>...</td>\n",
       "    </tr>\n",
       "    <tr>\n",
       "      <th>5394</th>\n",
       "      <td>36</td>\n",
       "      <td>0</td>\n",
       "      <td>nä  men den stora anledningen till att han gri...</td>\n",
       "    </tr>\n",
       "    <tr>\n",
       "      <th>5395</th>\n",
       "      <td>53</td>\n",
       "      <td>0</td>\n",
       "      <td>för att inte bli identifierad alls under själv...</td>\n",
       "    </tr>\n",
       "    <tr>\n",
       "      <th>5396</th>\n",
       "      <td>60</td>\n",
       "      <td>0</td>\n",
       "      <td>har någon några uppgifter hurvida det var en s...</td>\n",
       "    </tr>\n",
       "    <tr>\n",
       "      <th>5397</th>\n",
       "      <td>42</td>\n",
       "      <td>0</td>\n",
       "      <td>varför gm hade rånarluva vet jag inte  men jag...</td>\n",
       "    </tr>\n",
       "    <tr>\n",
       "      <th>5398</th>\n",
       "      <td>30</td>\n",
       "      <td>0</td>\n",
       "      <td>jag återgav vad folk som själva påstår sig kör...</td>\n",
       "    </tr>\n",
       "  </tbody>\n",
       "</table>\n",
       "<p>5205 rows × 3 columns</p>\n",
       "</div>"
      ],
      "text/plain": [
       "        n  Labels                                       comment_text\n",
       "0      51       0  fick just samtal att en lastbil kört över mass...\n",
       "1     116       0  andra trådar kopplade till terrorattentatet på...\n",
       "2      15       0  har även jag hört från en på plats  nya spänna...\n",
       "3      17       0  enligt nyhetsflash från aftonbladet har en las...\n",
       "4       1       0                                       terrorattack\n",
       "...   ...     ...                                                ...\n",
       "5394   36       0  nä  men den stora anledningen till att han gri...\n",
       "5395   53       0  för att inte bli identifierad alls under själv...\n",
       "5396   60       0  har någon några uppgifter hurvida det var en s...\n",
       "5397   42       0  varför gm hade rånarluva vet jag inte  men jag...\n",
       "5398   30       0  jag återgav vad folk som själva påstår sig kör...\n",
       "\n",
       "[5205 rows x 3 columns]"
      ]
     },
     "execution_count": 99,
     "metadata": {},
     "output_type": "execute_result"
    }
   ],
   "source": [
    "df"
   ]
  },
  {
   "cell_type": "code",
   "execution_count": 100,
   "id": "621d4371",
   "metadata": {},
   "outputs": [
    {
     "data": {
      "text/plain": [
       "<AxesSubplot:>"
      ]
     },
     "execution_count": 100,
     "metadata": {},
     "output_type": "execute_result"
    },
    {
     "data": {
      "image/png": "[encoded data removed]",
      "text/plain": [
       "<Figure size 432x288 with 1 Axes>"
      ]
     },
     "metadata": {
      "needs_background": "light"
     },
     "output_type": "display_data"
    }
   ],
   "source": [
    "df['Labels'].value_counts().plot(kind='bar')"
   ]
  },
  {
   "cell_type": "code",
   "execution_count": 106,
   "id": "a562c7fd",
   "metadata": {},
   "outputs": [],
   "source": [
    "def augment_sentence(sentence, aug, num_threads):\n",
    "    \"\"\"\"\"\"\"\"\"\n",
    "    Constructs a new sentence via text augmentation.\n",
    "    \n",
    "    Input:\n",
    "        - sentence:     A string of text\n",
    "        - aug:          An augmentation object defined by the nlpaug library\n",
    "        - num_threads:  Integer controlling the number of threads to use if\n",
    "                        augmenting text via CPU\n",
    "    Output:\n",
    "        - A string of text that been augmented\n",
    "    \"\"\"\"\"\"\"\"\"\n",
    "    return aug.augment(sentence, num_thread=num_threads)\n",
    "    \n",
    "\n",
    "\n",
    "def augment_text(df, aug, num_threads, num_times):\n",
    "    \"\"\"\"\"\"\"\"\"\n",
    "    Takes a pandas DataFrame and augments its text data.\n",
    "    \n",
    "    Input:\n",
    "        - df:            A pandas DataFrame containing the columns:\n",
    "                                - 'comment_text' containing strings of text to augment.\n",
    "                                - 'isToxic' binary target variable containing 0's and 1's.\n",
    "        - aug:           Augmentation object defined by the nlpaug library.\n",
    "        - num_threads:   Integer controlling number of threads to use if augmenting\n",
    "                         text via CPU\n",
    "        - num_times:     Integer representing the number of times to augment text.\n",
    "    Output:\n",
    "        - df:            Copy of the same pandas DataFrame with augmented data \n",
    "                         appended to it and with rows randomly shuffled.\n",
    "    \"\"\"\"\"\"\"\"\"\n",
    "    \n",
    "    # Get rows of data to augment\n",
    "    to_augment = df[df['Labels']==1]\n",
    "    to_augmentX = to_augment['comment_text']\n",
    "    to_augmentY = np.ones(len(to_augmentX.index) * num_times, dtype=np.int8)\n",
    "    \n",
    "    # Build up dictionary containing augmented data\n",
    "    aug_dict = {'comment_text':[], 'Labels':to_augmentY}\n",
    "    for i in tqdm(range(num_times)):\n",
    "        augX = [augment_sentence(x, aug, num_threads) for x in to_augmentX]\n",
    "        aug_dict['comment_text'].extend(augX)\n",
    "    \n",
    "    # Build DataFrame containing augmented data\n",
    "    aug_df = pd.DataFrame.from_dict(aug_dict)\n",
    "    \n",
    "    return df.append(aug_df, ignore_index=True).sample(frac=1, random_state=42)"
   ]
  },
  {
   "cell_type": "code",
   "execution_count": 107,
   "id": "d3900bf2",
   "metadata": {},
   "outputs": [],
   "source": [
    "aug10p = nlpaw.ContextualWordEmbsAug(model_path='KB/bert-base-swedish-cased', aug_min=1, aug_p=0.1, action=\"substitute\")"
   ]
  },
  {
   "cell_type": "code",
   "execution_count": 108,
   "id": "882df514",
   "metadata": {},
   "outputs": [
    {
     "name": "stderr",
     "output_type": "stream",
     "text": [
      "100%|██████████| 5/5 [54:15<00:00, 651.17s/it]\n"
     ]
    }
   ],
   "source": [
    "balanced_df = augment_text(df, aug10p, num_threads=4, num_times=5)"
   ]
  },
  {
   "cell_type": "code",
   "execution_count": 109,
   "id": "2e234277",
   "metadata": {},
   "outputs": [
    {
     "data": {
      "text/html": [
       "<div>\n",
       "<style scoped>\n",
       "    .dataframe tbody tr th:only-of-type {\n",
       "        vertical-align: middle;\n",
       "    }\n",
       "\n",
       "    .dataframe tbody tr th {\n",
       "        vertical-align: top;\n",
       "    }\n",
       "\n",
       "    .dataframe thead th {\n",
       "        text-align: right;\n",
       "    }\n",
       "</style>\n",
       "<table border=\"1\" class=\"dataframe\">\n",
       "  <thead>\n",
       "    <tr style=\"text-align: right;\">\n",
       "      <th></th>\n",
       "      <th>n</th>\n",
       "      <th>Labels</th>\n",
       "      <th>comment_text</th>\n",
       "    </tr>\n",
       "  </thead>\n",
       "  <tbody>\n",
       "    <tr>\n",
       "      <th>3260</th>\n",
       "      <td>25.0</td>\n",
       "      <td>0</td>\n",
       "      <td>kan ju också varit så att det var riksdagen so...</td>\n",
       "    </tr>\n",
       "    <tr>\n",
       "      <th>239</th>\n",
       "      <td>12.0</td>\n",
       "      <td>0</td>\n",
       "      <td>sverige har haft många terrordåd innan  bland ...</td>\n",
       "    </tr>\n",
       "    <tr>\n",
       "      <th>3245</th>\n",
       "      <td>31.0</td>\n",
       "      <td>1</td>\n",
       "      <td>fattar inte varför folk hänger upp sig på att ...</td>\n",
       "    </tr>\n",
       "    <tr>\n",
       "      <th>3393</th>\n",
       "      <td>16.0</td>\n",
       "      <td>0</td>\n",
       "      <td>rapporterade avpixlat om för någon timme sedan...</td>\n",
       "    </tr>\n",
       "    <tr>\n",
       "      <th>540</th>\n",
       "      <td>24.0</td>\n",
       "      <td>0</td>\n",
       "      <td>hemskt det som hänt  undra om det kommer en an...</td>\n",
       "    </tr>\n",
       "    <tr>\n",
       "      <th>...</th>\n",
       "      <td>...</td>\n",
       "      <td>...</td>\n",
       "      <td>...</td>\n",
       "    </tr>\n",
       "    <tr>\n",
       "      <th>5734</th>\n",
       "      <td>NaN</td>\n",
       "      <td>1</td>\n",
       "      <td>Det har bara kommit från avpixlat jag har inte...</td>\n",
       "    </tr>\n",
       "    <tr>\n",
       "      <th>5191</th>\n",
       "      <td>43.0</td>\n",
       "      <td>0</td>\n",
       "      <td>största anledningen till det lyckade gripet är...</td>\n",
       "    </tr>\n",
       "    <tr>\n",
       "      <th>5390</th>\n",
       "      <td>NaN</td>\n",
       "      <td>1</td>\n",
       "      <td>vad fan hjälper det han fick god tid på sig at...</td>\n",
       "    </tr>\n",
       "    <tr>\n",
       "      <th>860</th>\n",
       "      <td>24.0</td>\n",
       "      <td>0</td>\n",
       "      <td>hade lika gärna kunnat vara en själv som drabb...</td>\n",
       "    </tr>\n",
       "    <tr>\n",
       "      <th>7270</th>\n",
       "      <td>NaN</td>\n",
       "      <td>1</td>\n",
       "      <td>även p rapporterade om skottlossning men rappo...</td>\n",
       "    </tr>\n",
       "  </tbody>\n",
       "</table>\n",
       "<p>8660 rows × 3 columns</p>\n",
       "</div>"
      ],
      "text/plain": [
       "         n  Labels                                       comment_text\n",
       "3260  25.0       0  kan ju också varit så att det var riksdagen so...\n",
       "239   12.0       0  sverige har haft många terrordåd innan  bland ...\n",
       "3245  31.0       1  fattar inte varför folk hänger upp sig på att ...\n",
       "3393  16.0       0  rapporterade avpixlat om för någon timme sedan...\n",
       "540   24.0       0  hemskt det som hänt  undra om det kommer en an...\n",
       "...    ...     ...                                                ...\n",
       "5734   NaN       1  Det har bara kommit från avpixlat jag har inte...\n",
       "5191  43.0       0  största anledningen till det lyckade gripet är...\n",
       "5390   NaN       1  vad fan hjälper det han fick god tid på sig at...\n",
       "860   24.0       0  hade lika gärna kunnat vara en själv som drabb...\n",
       "7270   NaN       1  även p rapporterade om skottlossning men rappo...\n",
       "\n",
       "[8660 rows x 3 columns]"
      ]
     },
     "execution_count": 109,
     "metadata": {},
     "output_type": "execute_result"
    }
   ],
   "source": [
    "balanced_df"
   ]
  },
  {
   "cell_type": "code",
   "execution_count": 110,
   "id": "4a72fd64",
   "metadata": {},
   "outputs": [
    {
     "data": {
      "text/plain": [
       "<AxesSubplot:>"
      ]
     },
     "execution_count": 110,
     "metadata": {},
     "output_type": "execute_result"
    },
    {
     "data": {
      "image/png": "[encoded data removed]",
      "text/plain": [
       "<Figure size 432x288 with 1 Axes>"
      ]
     },
     "metadata": {
      "needs_background": "light"
     },
     "output_type": "display_data"
    }
   ],
   "source": [
    "balanced_df['Labels'].value_counts().plot(kind='bar')"
   ]
  },
  {
   "cell_type": "code",
   "execution_count": 111,
   "id": "7abe690f",
   "metadata": {},
   "outputs": [],
   "source": [
    "balanced_df.to_csv('df-for-bert.csv', index = True, encoding = 'utf-8-sig')"
   ]
  }
 ],
 "metadata": {
  "kernelspec": {
   "display_name": "Python 3 (ipykernel)",
   "language": "python",
   "name": "python3"
  },
  "language_info": {
   "codemirror_mode": {
    "name": "ipython",
    "version": 3
   },
   "file_extension": ".py",
   "mimetype": "text/x-python",
   "name": "python",
   "nbconvert_exporter": "python",
   "pygments_lexer": "ipython3",
   "version": "3.8.8"
  }
 },
 "nbformat": 4,
 "nbformat_minor": 5
}
