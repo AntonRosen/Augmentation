{
 "cells": [
  {
   "cell_type": "code",
   "execution_count": 1,
   "id": "fd196c69",
   "metadata": {},
   "outputs": [],
   "source": [
    "import pandas as pd\n",
    "import numpy as np\n",
    "\n",
    "import nlpaug.augmenter.word as nlpaw\n",
    "from tqdm import tqdm\n",
    "\n",
    "from sklearn.preprocessing import LabelEncoder"
   ]
  },
  {
   "cell_type": "code",
   "execution_count": 29,
   "id": "b8a6460c",
   "metadata": {},
   "outputs": [],
   "source": [
    "df = pd.read_csv(\"Annotation-data-test.csv\")"
   ]
  },
  {
   "cell_type": "code",
   "execution_count": 30,
   "id": "f567c328",
   "metadata": {},
   "outputs": [
    {
     "name": "stderr",
     "output_type": "stream",
     "text": [
      "C:\\Users\\anton\\AppData\\Local\\Temp/ipykernel_14492/3812631323.py:1: FutureWarning: In a future version of pandas all arguments of DataFrame.drop except for the argument 'labels' will be keyword-only\n",
      "  df = df.drop('Unnamed: 0', 1)\n"
     ]
    }
   ],
   "source": [
    "df = df.drop('Unnamed: 0', 1)"
   ]
  },
  {
   "cell_type": "code",
   "execution_count": 31,
   "id": "a980a7e3",
   "metadata": {},
   "outputs": [],
   "source": [
    "cols = df.iloc[:, 9:12]"
   ]
  },
  {
   "cell_type": "code",
   "execution_count": 32,
   "id": "5177a527",
   "metadata": {},
   "outputs": [],
   "source": [
    "def get_labels(row):\n",
    "    for col in cols:\n",
    "        if row[col] == 1:\n",
    "            return col\n",
    "\n",
    "df['Labels'] = df.apply(get_labels, axis=1)"
   ]
  },
  {
   "cell_type": "code",
   "execution_count": 33,
   "id": "f624a7b5",
   "metadata": {},
   "outputs": [
    {
     "data": {
      "text/plain": [
       "<AxesSubplot:>"
      ]
     },
     "execution_count": 33,
     "metadata": {},
     "output_type": "execute_result"
    },
    {
     "data": {
      "image/png": "[encoded data removed]",
      "text/plain": [
       "<Figure size 432x288 with 1 Axes>"
      ]
     },
     "metadata": {
      "needs_background": "light"
     },
     "output_type": "display_data"
    }
   ],
   "source": [
    "df['Labels'].value_counts().plot(kind='bar')"
   ]
  },
  {
   "cell_type": "code",
   "execution_count": 6,
   "id": "30daa64c",
   "metadata": {},
   "outputs": [],
   "source": [
    "df = df.drop(['id', 'post.nr', 'date', 'phaseType', 'Machine_Translation', 'toxicity', 'severe_toxicity', 'lab_toxic', 'lab_undetermined', 'lab_not_toxic'], axis = 1)"
   ]
  },
  {
   "cell_type": "code",
   "execution_count": 7,
   "id": "6585223f",
   "metadata": {},
   "outputs": [],
   "source": [
    "df['comment_text'] = df['comment.text']"
   ]
  },
  {
   "cell_type": "code",
   "execution_count": 8,
   "id": "09160c1d",
   "metadata": {},
   "outputs": [],
   "source": [
    "df = df.drop(['comment.text'], axis = 1)"
   ]
  },
  {
   "cell_type": "code",
   "execution_count": 9,
   "id": "a428e06c",
   "metadata": {},
   "outputs": [],
   "source": [
    "df = df.dropna()"
   ]
  },
  {
   "cell_type": "code",
   "execution_count": 11,
   "id": "d005bafe",
   "metadata": {},
   "outputs": [],
   "source": [
    "df = df[df['Labels'] != 'lab_toxic']"
   ]
  },
  {
   "cell_type": "code",
   "execution_count": 12,
   "id": "5d2beba7",
   "metadata": {},
   "outputs": [
    {
     "data": {
      "text/html": [
       "<div>\n",
       "<style scoped>\n",
       "    .dataframe tbody tr th:only-of-type {\n",
       "        vertical-align: middle;\n",
       "    }\n",
       "\n",
       "    .dataframe tbody tr th {\n",
       "        vertical-align: top;\n",
       "    }\n",
       "\n",
       "    .dataframe thead th {\n",
       "        text-align: right;\n",
       "    }\n",
       "</style>\n",
       "<table border=\"1\" class=\"dataframe\">\n",
       "  <thead>\n",
       "    <tr style=\"text-align: right;\">\n",
       "      <th></th>\n",
       "      <th>n</th>\n",
       "      <th>Labels</th>\n",
       "      <th>comment_text</th>\n",
       "    </tr>\n",
       "  </thead>\n",
       "  <tbody>\n",
       "    <tr>\n",
       "      <th>0</th>\n",
       "      <td>51</td>\n",
       "      <td>lab_not_toxic</td>\n",
       "      <td>fick just samtal att en lastbil kört över mass...</td>\n",
       "    </tr>\n",
       "    <tr>\n",
       "      <th>1</th>\n",
       "      <td>116</td>\n",
       "      <td>lab_not_toxic</td>\n",
       "      <td>andra trådar kopplade till terrorattentatet på...</td>\n",
       "    </tr>\n",
       "    <tr>\n",
       "      <th>2</th>\n",
       "      <td>15</td>\n",
       "      <td>lab_not_toxic</td>\n",
       "      <td>har även jag hört från en på plats  nya spänna...</td>\n",
       "    </tr>\n",
       "    <tr>\n",
       "      <th>3</th>\n",
       "      <td>17</td>\n",
       "      <td>lab_not_toxic</td>\n",
       "      <td>enligt nyhetsflash från aftonbladet har en las...</td>\n",
       "    </tr>\n",
       "    <tr>\n",
       "      <th>4</th>\n",
       "      <td>1</td>\n",
       "      <td>lab_not_toxic</td>\n",
       "      <td>terrorattack</td>\n",
       "    </tr>\n",
       "    <tr>\n",
       "      <th>...</th>\n",
       "      <td>...</td>\n",
       "      <td>...</td>\n",
       "      <td>...</td>\n",
       "    </tr>\n",
       "    <tr>\n",
       "      <th>5395</th>\n",
       "      <td>53</td>\n",
       "      <td>lab_not_toxic</td>\n",
       "      <td>för att inte bli identifierad alls under själv...</td>\n",
       "    </tr>\n",
       "    <tr>\n",
       "      <th>5396</th>\n",
       "      <td>60</td>\n",
       "      <td>lab_not_toxic</td>\n",
       "      <td>har någon några uppgifter hurvida det var en s...</td>\n",
       "    </tr>\n",
       "    <tr>\n",
       "      <th>5397</th>\n",
       "      <td>42</td>\n",
       "      <td>lab_not_toxic</td>\n",
       "      <td>varför gm hade rånarluva vet jag inte  men jag...</td>\n",
       "    </tr>\n",
       "    <tr>\n",
       "      <th>5398</th>\n",
       "      <td>30</td>\n",
       "      <td>lab_not_toxic</td>\n",
       "      <td>jag återgav vad folk som själva påstår sig kör...</td>\n",
       "    </tr>\n",
       "    <tr>\n",
       "      <th>5399</th>\n",
       "      <td>55</td>\n",
       "      <td>lab_undetermined</td>\n",
       "      <td>hva kommer til å hende nu i kjølvannet av musl...</td>\n",
       "    </tr>\n",
       "  </tbody>\n",
       "</table>\n",
       "<p>4704 rows × 3 columns</p>\n",
       "</div>"
      ],
      "text/plain": [
       "        n            Labels                                       comment_text\n",
       "0      51     lab_not_toxic  fick just samtal att en lastbil kört över mass...\n",
       "1     116     lab_not_toxic  andra trådar kopplade till terrorattentatet på...\n",
       "2      15     lab_not_toxic  har även jag hört från en på plats  nya spänna...\n",
       "3      17     lab_not_toxic  enligt nyhetsflash från aftonbladet har en las...\n",
       "4       1     lab_not_toxic                                       terrorattack\n",
       "...   ...               ...                                                ...\n",
       "5395   53     lab_not_toxic  för att inte bli identifierad alls under själv...\n",
       "5396   60     lab_not_toxic  har någon några uppgifter hurvida det var en s...\n",
       "5397   42     lab_not_toxic  varför gm hade rånarluva vet jag inte  men jag...\n",
       "5398   30     lab_not_toxic  jag återgav vad folk som själva påstår sig kör...\n",
       "5399   55  lab_undetermined  hva kommer til å hende nu i kjølvannet av musl...\n",
       "\n",
       "[4704 rows x 3 columns]"
      ]
     },
     "execution_count": 12,
     "metadata": {},
     "output_type": "execute_result"
    }
   ],
   "source": [
    "df"
   ]
  },
  {
   "cell_type": "code",
   "execution_count": 27,
   "id": "f05ffaf3",
   "metadata": {},
   "outputs": [],
   "source": [
    "le = LabelEncoder()\n",
    "df['Labels'] = le.fit_transform(df['Labels'])"
   ]
  },
  {
   "cell_type": "code",
   "execution_count": 15,
   "id": "09d69d60",
   "metadata": {},
   "outputs": [
    {
     "data": {
      "text/plain": [
       "<AxesSubplot:>"
      ]
     },
     "execution_count": 15,
     "metadata": {},
     "output_type": "execute_result"
    },
    {
     "data": {
      "image/png": "[encoded data removed]",
      "text/plain": [
       "<Figure size 432x288 with 1 Axes>"
      ]
     },
     "metadata": {
      "needs_background": "light"
     },
     "output_type": "display_data"
    }
   ],
   "source": [
    "df['Labels'].value_counts().plot(kind='bar')"
   ]
  },
  {
   "cell_type": "code",
   "execution_count": 16,
   "id": "ad202505",
   "metadata": {},
   "outputs": [],
   "source": [
    "def augment_sentence(sentence, aug, num_threads):\n",
    "    \"\"\"\"\"\"\"\"\"\n",
    "    Constructs a new sentence via text augmentation.\n",
    "    \n",
    "    Input:\n",
    "        - sentence:     A string of text\n",
    "        - aug:          An augmentation object defined by the nlpaug library\n",
    "        - num_threads:  Integer controlling the number of threads to use if\n",
    "                        augmenting text via CPU\n",
    "    Output:\n",
    "        - A string of text that been augmented\n",
    "    \"\"\"\"\"\"\"\"\"\n",
    "    return aug.augment(sentence, num_thread=num_threads)\n",
    "    \n",
    "\n",
    "\n",
    "def augment_text(df, aug, num_threads, num_times):\n",
    "    \"\"\"\"\"\"\"\"\"\n",
    "    Takes a pandas DataFrame and augments its text data.\n",
    "    \n",
    "    Input:\n",
    "        - df:            A pandas DataFrame containing the columns:\n",
    "                                - 'comment_text' containing strings of text to augment.\n",
    "                                - 'isToxic' binary target variable containing 0's and 1's.\n",
    "        - aug:           Augmentation object defined by the nlpaug library.\n",
    "        - num_threads:   Integer controlling number of threads to use if augmenting\n",
    "                         text via CPU\n",
    "        - num_times:     Integer representing the number of times to augment text.\n",
    "    Output:\n",
    "        - df:            Copy of the same pandas DataFrame with augmented data \n",
    "                         appended to it and with rows randomly shuffled.\n",
    "    \"\"\"\"\"\"\"\"\"\n",
    "    \n",
    "    # Get rows of data to augment\n",
    "    to_augment = df[df['Labels']==1]\n",
    "    to_augmentX = to_augment['comment_text']\n",
    "    to_augmentY = np.ones(len(to_augmentX.index) * num_times, dtype=np.int8)\n",
    "    \n",
    "    # Build up dictionary containing augmented data\n",
    "    aug_dict = {'comment_text':[], 'Labels':to_augmentY}\n",
    "    for i in tqdm(range(num_times)):\n",
    "        augX = [augment_sentence(x, aug, num_threads) for x in to_augmentX]\n",
    "        aug_dict['comment_text'].extend(augX)\n",
    "    \n",
    "    # Build DataFrame containing augmented data\n",
    "    aug_df = pd.DataFrame.from_dict(aug_dict)\n",
    "    \n",
    "    return df.append(aug_df, ignore_index=True).sample(frac=1, random_state=42)"
   ]
  },
  {
   "cell_type": "code",
   "execution_count": 17,
   "id": "06ae1899",
   "metadata": {},
   "outputs": [],
   "source": [
    "aug10p = nlpaw.ContextualWordEmbsAug(model_path='KB/bert-base-swedish-cased', aug_min=1, aug_p=0.1, action=\"substitute\")"
   ]
  },
  {
   "cell_type": "code",
   "execution_count": 18,
   "id": "eabf3fe3",
   "metadata": {},
   "outputs": [
    {
     "name": "stderr",
     "output_type": "stream",
     "text": [
      "100%|██████████| 8/8 [16:15<00:00, 121.98s/it]\n"
     ]
    }
   ],
   "source": [
    "balanced_df2 = augment_text(df, aug10p, num_threads=4, num_times=8)"
   ]
  },
  {
   "cell_type": "code",
   "execution_count": 19,
   "id": "3fa52dce",
   "metadata": {},
   "outputs": [
    {
     "data": {
      "text/html": [
       "<div>\n",
       "<style scoped>\n",
       "    .dataframe tbody tr th:only-of-type {\n",
       "        vertical-align: middle;\n",
       "    }\n",
       "\n",
       "    .dataframe tbody tr th {\n",
       "        vertical-align: top;\n",
       "    }\n",
       "\n",
       "    .dataframe thead th {\n",
       "        text-align: right;\n",
       "    }\n",
       "</style>\n",
       "<table border=\"1\" class=\"dataframe\">\n",
       "  <thead>\n",
       "    <tr style=\"text-align: right;\">\n",
       "      <th></th>\n",
       "      <th>n</th>\n",
       "      <th>Labels</th>\n",
       "      <th>comment_text</th>\n",
       "    </tr>\n",
       "  </thead>\n",
       "  <tbody>\n",
       "    <tr>\n",
       "      <th>1520</th>\n",
       "      <td>7.0</td>\n",
       "      <td>0</td>\n",
       "      <td>enligt expressen greps mannen på steningebadet...</td>\n",
       "    </tr>\n",
       "    <tr>\n",
       "      <th>4445</th>\n",
       "      <td>11.0</td>\n",
       "      <td>0</td>\n",
       "      <td>japp   hittade också det  står att dom betalat...</td>\n",
       "    </tr>\n",
       "    <tr>\n",
       "      <th>1471</th>\n",
       "      <td>19.0</td>\n",
       "      <td>0</td>\n",
       "      <td>ligger det någon fakta bakom det här  lma kort...</td>\n",
       "    </tr>\n",
       "    <tr>\n",
       "      <th>544</th>\n",
       "      <td>7.0</td>\n",
       "      <td>0</td>\n",
       "      <td>gripande och omhändertagande är två olika saker</td>\n",
       "    </tr>\n",
       "    <tr>\n",
       "      <th>1038</th>\n",
       "      <td>22.0</td>\n",
       "      <td>0</td>\n",
       "      <td>har de slutat med att gå ut och ta på sig dåd ...</td>\n",
       "    </tr>\n",
       "    <tr>\n",
       "      <th>...</th>\n",
       "      <td>...</td>\n",
       "      <td>...</td>\n",
       "      <td>...</td>\n",
       "    </tr>\n",
       "    <tr>\n",
       "      <th>3772</th>\n",
       "      <td>75.0</td>\n",
       "      <td>0</td>\n",
       "      <td>läs igen    nej  det påstod han inte  han är r...</td>\n",
       "    </tr>\n",
       "    <tr>\n",
       "      <th>5191</th>\n",
       "      <td>NaN</td>\n",
       "      <td>1</td>\n",
       "      <td>ok experten jag demolerar nu också mitt fantas...</td>\n",
       "    </tr>\n",
       "    <tr>\n",
       "      <th>5226</th>\n",
       "      <td>NaN</td>\n",
       "      <td>1</td>\n",
       "      <td>han ska inte vara med här punkt</td>\n",
       "    </tr>\n",
       "    <tr>\n",
       "      <th>5390</th>\n",
       "      <td>NaN</td>\n",
       "      <td>1</td>\n",
       "      <td>för man beter sig ganska normalt efter tiden m...</td>\n",
       "    </tr>\n",
       "    <tr>\n",
       "      <th>860</th>\n",
       "      <td>42.0</td>\n",
       "      <td>0</td>\n",
       "      <td>jag jobbar på en tvärgata till drottninggatan ...</td>\n",
       "    </tr>\n",
       "  </tbody>\n",
       "</table>\n",
       "<p>6224 rows × 3 columns</p>\n",
       "</div>"
      ],
      "text/plain": [
       "         n  Labels                                       comment_text\n",
       "1520   7.0       0  enligt expressen greps mannen på steningebadet...\n",
       "4445  11.0       0  japp   hittade också det  står att dom betalat...\n",
       "1471  19.0       0  ligger det någon fakta bakom det här  lma kort...\n",
       "544    7.0       0    gripande och omhändertagande är två olika saker\n",
       "1038  22.0       0  har de slutat med att gå ut och ta på sig dåd ...\n",
       "...    ...     ...                                                ...\n",
       "3772  75.0       0  läs igen    nej  det påstod han inte  han är r...\n",
       "5191   NaN       1  ok experten jag demolerar nu också mitt fantas...\n",
       "5226   NaN       1                    han ska inte vara med här punkt\n",
       "5390   NaN       1  för man beter sig ganska normalt efter tiden m...\n",
       "860   42.0       0  jag jobbar på en tvärgata till drottninggatan ...\n",
       "\n",
       "[6224 rows x 3 columns]"
      ]
     },
     "execution_count": 19,
     "metadata": {},
     "output_type": "execute_result"
    }
   ],
   "source": [
    "balanced_df2"
   ]
  },
  {
   "cell_type": "code",
   "execution_count": 20,
   "id": "6ed0e2c3",
   "metadata": {},
   "outputs": [
    {
     "data": {
      "text/plain": [
       "<AxesSubplot:>"
      ]
     },
     "execution_count": 20,
     "metadata": {},
     "output_type": "execute_result"
    },
    {
     "data": {
      "image/png": "[encoded data removed]",
      "text/plain": [
       "<Figure size 432x288 with 1 Axes>"
      ]
     },
     "metadata": {
      "needs_background": "light"
     },
     "output_type": "display_data"
    }
   ],
   "source": [
    "balanced_df2['Labels'].value_counts().plot(kind='bar')"
   ]
  },
  {
   "cell_type": "code",
   "execution_count": 21,
   "id": "560fc199",
   "metadata": {},
   "outputs": [],
   "source": [
    "balanced_df2.to_csv('df-for-bert-with-UD.csv', index = True, encoding = 'utf-8-sig')"
   ]
  },
  {
   "cell_type": "code",
   "execution_count": null,
   "id": "f1c7e690",
   "metadata": {},
   "outputs": [],
   "source": []
  }
 ],
 "metadata": {
  "kernelspec": {
   "display_name": "Python 3 (ipykernel)",
   "language": "python",
   "name": "python3"
  },
  "language_info": {
   "codemirror_mode": {
    "name": "ipython",
    "version": 3
   },
   "file_extension": ".py",
   "mimetype": "text/x-python",
   "name": "python",
   "nbconvert_exporter": "python",
   "pygments_lexer": "ipython3",
   "version": "3.8.8"
  }
 },
 "nbformat": 4,
 "nbformat_minor": 5
}
